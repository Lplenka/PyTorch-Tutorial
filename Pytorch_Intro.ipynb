{
 "cells": [
  {
   "cell_type": "markdown",
   "metadata": {},
   "source": [
    "![Next Generation Weapon](https://s3-ap-south-1.amazonaws.com/av-blog-media/wp-content/uploads/2018/02/pytorch-logo-flat-300x210.png)\n",
    "\n",
    "\n",
    "---\n",
    "10 Minute of Pytorch\n",
    "---\n",
    "\n",
    "\n",
    "---\n",
    "* [Pytorch Introduction](#Pytorch-Introduction)\n",
    "    * [PyTorch provides two high-level features](#PyTorch-provides-two-high-level-features)\n",
    "* [Environment Configuration](#Environment-Configuration)\n",
    "    * [Install pytorch on Windows Snapshop Tutorial](https://www.superdatascience.com/pytorch/)\n",
    "* [**Section : 1. Pytorch Basic Foundation**](#Section-1-:-Pytorch-Basic-Foundation)\n",
    "    * [Tensor](#Tensor)\n",
    "        * [Construct a 5x3 matrix uninitialized](#Construct-a-5x3-matrix-uninitialized)\n",
    "        * [Convert to numpy](#Convert-to-numpy)\n",
    "        * [Size of tensor](#Size-of-tensor)\n",
    "        * [From Numpy to tensor](#From-Numpy-to-tensor)\n",
    "    * [Tensor Operation](#Tensor-Operation)\n",
    "        * [Random similar to numpy](#Random-similar-to-numpy)\n",
    "        * [Construct a matrix filled zeros and of dtype long](#Construct-a-matrix-filled-zeros-and-of-dtype-long)\n",
    "        * [Construct a tensor directly from data](#Construct-a-tensor-directly-from-data)\n",
    "        * [Create tensor based on existing tensor](#Create-tensor-based-on-existing-tensor)\n",
    "        * [Basic Tensor Operation](#Basic-Tensor-Operation)\n",
    "    * [Variable](#Variable)\n",
    "    * [Activation Function](#Activation-Function)\n",
    "        * [Generate Fake Data](#Generate-Fake-Data)\n",
    "        * [Popular Activation Function](#Popular-Activation-Function)\n",
    "        * [Activation Function plot from data](#Activation-Function-plot-from-data)"
   ]
  },
  {
   "cell_type": "markdown",
   "metadata": {},
   "source": [
    "\n",
    "---\n",
    "Pytorch Introduction\n",
    "---\n",
    "---\n",
    "PyTorch is an open source machine learning library for Python, based on [Torch](https://en.wikipedia.org/wiki/Torch_(machine_learning),used for applications such as natural language processing.It is primarily developed by Facebook's artificial-intelligence research group, and Uber's \"Pyro\" software for probabilistic programming is built on it.\n",
    "\n",
    "#### PyTorch provides two high-level features:\n",
    "\n",
    "1. *Tensor computation (like NumPy) with strong GPU acceleration*\n",
    "1. *Deep Neural Networks built on a tape-based autodiff system*\n",
    "\n",
    "---\n",
    "Environment Configuration\n",
    "---\n",
    "---\n",
    "![](https://s3-ap-south-1.amazonaws.com/av-blog-media/wp-content/uploads/2018/02/3-768x368.png)\n",
    "\n",
    "* [Install pytorch on Windows Snapshop Tutorial](https://www.superdatascience.com/pytorch/)"
   ]
  },
  {
   "cell_type": "code",
   "execution_count": 1,
   "metadata": {},
   "outputs": [],
   "source": [
    "# This Python 3 environment comes with many helpful analytics libraries installed\n",
    "# It is defined by the kaggle/python docker image: https://github.com/kaggle/docker-python\n",
    "# For example, here's several helpful packages to load in \n",
    "\n",
    "import numpy as np # linear algebra\n",
    "import pandas as pd # data processing, CSV file I/O (e.g. pd.read_csv)\n",
    "import torch\n",
    "import seaborn as sns\n",
    "\n",
    "import matplotlib.pyplot as plt\n",
    "plt.style.use(\"fivethirtyeight\")\n",
    "%matplotlib inline\n",
    "\n",
    "import os\n",
    "# print(os.listdir(\".\"))\n",
    "\n",
    "# Any results you write to the current directory are saved as output."
   ]
  },
  {
   "cell_type": "markdown",
   "metadata": {},
   "source": [
    "Section-1 : Pytorch Basic Foundation\n",
    "---"
   ]
  },
  {
   "cell_type": "markdown",
   "metadata": {},
   "source": [
    "### Tensor\n",
    "---\n",
    "* Tensors are matrix-like data structures which are essential components in deep learning libraries and efficient computation. **Graphical Processing Units (GPUs)** are especially effective at calculating operations between **tensors**, and this has spurred the surge in deep learning capability in recent times. In PyTorch, tensors can be declared simply in a number of ways:\n",
    "![](https://cdn-images-1.medium.com/max/2000/1*_D5ZvufDS38WkhK9rK32hQ.jpeg)"
   ]
  },
  {
   "cell_type": "markdown",
   "metadata": {},
   "source": [
    "#### **Construct a 5x3 matrix uninitialized**"
   ]
  },
  {
   "cell_type": "code",
   "execution_count": 2,
   "metadata": {},
   "outputs": [
    {
     "name": "stdout",
     "output_type": "stream",
     "text": [
      "tensor([[2.4445e-37, 0.0000e+00, 2.8026e-44],\n",
      "        [0.0000e+00,        nan, 4.5793e-41],\n",
      "        [7.7180e+28, 6.0041e+31, 4.2964e+24],\n",
      "        [4.8418e+30, 1.6926e+22, 4.5559e-41],\n",
      "        [1.3795e+34, 4.5793e-41, 1.3795e+34]])\n"
     ]
    }
   ],
   "source": [
    "x = torch.empty(5, 3)\n",
    "print(x)"
   ]
  },
  {
   "cell_type": "markdown",
   "metadata": {},
   "source": [
    "#### **Convert to numpy**"
   ]
  },
  {
   "cell_type": "code",
   "execution_count": 3,
   "metadata": {},
   "outputs": [
    {
     "data": {
      "text/plain": [
       "array([[2.4445174e-37, 0.0000000e+00, 2.8025969e-44],\n",
       "       [0.0000000e+00,           nan, 4.5793033e-41],\n",
       "       [7.7179543e+28, 6.0040658e+31, 4.2963525e+24],\n",
       "       [4.8418295e+30, 1.6926159e+22, 4.5559016e-41],\n",
       "       [1.3794693e+34, 4.5793033e-41, 1.3795109e+34]], dtype=float32)"
      ]
     },
     "execution_count": 3,
     "metadata": {},
     "output_type": "execute_result"
    }
   ],
   "source": [
    "x.numpy()"
   ]
  },
  {
   "cell_type": "markdown",
   "metadata": {},
   "source": [
    "#### **Size of tensor**"
   ]
  },
  {
   "cell_type": "code",
   "execution_count": 5,
   "metadata": {},
   "outputs": [
    {
     "data": {
      "text/plain": [
       "torch.Size([5, 3])"
      ]
     },
     "execution_count": 5,
     "metadata": {},
     "output_type": "execute_result"
    }
   ],
   "source": [
    "x.size()"
   ]
  },
  {
   "cell_type": "markdown",
   "metadata": {},
   "source": [
    "#### **From Numpy to tensor**"
   ]
  },
  {
   "cell_type": "code",
   "execution_count": 6,
   "metadata": {},
   "outputs": [
    {
     "name": "stdout",
     "output_type": "stream",
     "text": [
      "tensor([[3, 4],\n",
      "        [4, 3]])\n"
     ]
    }
   ],
   "source": [
    "a = np.array([[3,4],[4,3]])\n",
    "b = torch.from_numpy(a)\n",
    "print(b)"
   ]
  },
  {
   "cell_type": "markdown",
   "metadata": {},
   "source": [
    "#### Tensor Operations\n",
    "#### **Random similar to numpy**"
   ]
  },
  {
   "cell_type": "code",
   "execution_count": 9,
   "metadata": {},
   "outputs": [
    {
     "name": "stdout",
     "output_type": "stream",
     "text": [
      "tensor([[0.2653, 0.9108, 0.6389],\n",
      "        [0.3397, 0.7949, 0.1897],\n",
      "        [0.0408, 0.7944, 0.8060],\n",
      "        [0.2779, 0.2023, 0.7308],\n",
      "        [0.5765, 0.6419, 0.0884]])\n"
     ]
    }
   ],
   "source": [
    "x =torch.rand(5,3)\n",
    "print(x)"
   ]
  },
  {
   "cell_type": "markdown",
   "metadata": {},
   "source": [
    "#### **Construct a matrix filled zeros and of dtype long**"
   ]
  },
  {
   "cell_type": "code",
   "execution_count": 10,
   "metadata": {},
   "outputs": [
    {
     "name": "stdout",
     "output_type": "stream",
     "text": [
      "tensor([[0, 0, 0],\n",
      "        [0, 0, 0],\n",
      "        [0, 0, 0],\n",
      "        [0, 0, 0],\n",
      "        [0, 0, 0]])\n"
     ]
    }
   ],
   "source": [
    "x = torch.zeros(5, 3, dtype=torch.long)\n",
    "print(x)"
   ]
  },
  {
   "cell_type": "code",
   "execution_count": 11,
   "metadata": {},
   "outputs": [
    {
     "name": "stdout",
     "output_type": "stream",
     "text": [
      "tensor([[1, 1, 1],\n",
      "        [1, 1, 1],\n",
      "        [1, 1, 1]])\n"
     ]
    }
   ],
   "source": [
    "x = torch.ones(3, 3, dtype=torch.long)\n",
    "print(x)"
   ]
  },
  {
   "cell_type": "markdown",
   "metadata": {},
   "source": [
    "#### **Construct a tensor directly from data**"
   ]
  },
  {
   "cell_type": "code",
   "execution_count": 12,
   "metadata": {},
   "outputs": [
    {
     "data": {
      "text/plain": [
       "tensor([2.4000, 6.0000, 9.0000])"
      ]
     },
     "execution_count": 12,
     "metadata": {},
     "output_type": "execute_result"
    }
   ],
   "source": [
    "torch.tensor([2.4,6,9])"
   ]
  },
  {
   "cell_type": "markdown",
   "metadata": {},
   "source": [
    "#### **Create tensor based on existing tensor** - This method has reuse property of input Tensor"
   ]
  },
  {
   "cell_type": "code",
   "execution_count": 13,
   "metadata": {},
   "outputs": [
    {
     "name": "stdout",
     "output_type": "stream",
     "text": [
      "tensor([[1., 1., 1.],\n",
      "        [1., 1., 1.],\n",
      "        [1., 1., 1.],\n",
      "        [1., 1., 1.],\n",
      "        [1., 1., 1.]], dtype=torch.float64)\n",
      "torch.Size([5, 3])\n"
     ]
    }
   ],
   "source": [
    "x = x.new_ones(5, 3, dtype=torch.double)      # new_* methods take in sizes\n",
    "print(x)\n",
    "print(x.size())"
   ]
  },
  {
   "cell_type": "code",
   "execution_count": 14,
   "metadata": {},
   "outputs": [
    {
     "name": "stdout",
     "output_type": "stream",
     "text": [
      "tensor([[ 2.4714,  0.5873,  0.0882],\n",
      "        [-0.7099, -0.3800,  0.0572],\n",
      "        [-0.2829,  0.1885,  0.0802],\n",
      "        [-1.2621,  0.5670, -0.0612],\n",
      "        [-0.2810,  0.2790,  0.1885]])\n",
      "torch.Size([5, 3])\n"
     ]
    }
   ],
   "source": [
    "x = torch.randn_like(x, dtype=torch.float)    # override dtype!\n",
    "print(x) \n",
    "print(x.size())"
   ]
  },
  {
   "cell_type": "markdown",
   "metadata": {},
   "source": [
    "#### Basic Tensor Operation\n",
    "---\n",
    "![](https://devblogs.nvidia.com/wp-content/uploads/2018/05/tesnor_core_diagram.png)"
   ]
  },
  {
   "cell_type": "markdown",
   "metadata": {},
   "source": [
    "* **Addition(`torch.add()`)**\n",
    "* **Substraction(`torch.sub()`)**\n",
    "* **Division(`torch.div()`)**\n",
    "* **Multiplication( `torch.mul()`)**"
   ]
  },
  {
   "cell_type": "code",
   "execution_count": 16,
   "metadata": {},
   "outputs": [
    {
     "name": "stdout",
     "output_type": "stream",
     "text": [
      "tensor([[1.7622, 1.0516, 1.1095],\n",
      "        [0.3025, 0.7760, 1.1075],\n",
      "        [1.0442, 0.8482, 1.6033],\n",
      "        [1.0744, 0.9576, 0.4465],\n",
      "        [1.2181, 1.2073, 0.9214]])\n",
      "tensor([[1.7622, 1.0516, 1.1095],\n",
      "        [0.3025, 0.7760, 1.1075],\n",
      "        [1.0442, 0.8482, 1.6033],\n",
      "        [1.0744, 0.9576, 0.4465],\n",
      "        [1.2181, 1.2073, 0.9214]])\n"
     ]
    }
   ],
   "source": [
    "x = torch.rand(5, 3)\n",
    "y = torch.rand(5, 3)\n",
    "print(x + y) # This is old method\n",
    "print(torch.add(x, y)) # pytorch method"
   ]
  },
  {
   "cell_type": "code",
   "execution_count": 17,
   "metadata": {},
   "outputs": [
    {
     "name": "stdout",
     "output_type": "stream",
     "text": [
      "tensor([[-0.1920, -0.9277,  0.0321],\n",
      "        [-0.8386, -0.6548, -0.4702],\n",
      "        [-0.0440, -0.3392, -0.1999],\n",
      "        [-0.4231, -0.3284, -0.1617],\n",
      "        [-0.4500, -0.0990,  0.7728]])\n",
      "tensor([[-0.1920, -0.9277,  0.0321],\n",
      "        [-0.8386, -0.6548, -0.4702],\n",
      "        [-0.0440, -0.3392, -0.1999],\n",
      "        [-0.4231, -0.3284, -0.1617],\n",
      "        [-0.4500, -0.0990,  0.7728]])\n"
     ]
    }
   ],
   "source": [
    "x = torch.rand(5, 3)\n",
    "y = torch.rand(5, 3)\n",
    "print(x - y) # This is old method\n",
    "print(torch.sub(x, y)) # pytorch method"
   ]
  },
  {
   "cell_type": "code",
   "execution_count": 18,
   "metadata": {},
   "outputs": [
    {
     "name": "stdout",
     "output_type": "stream",
     "text": [
      "tensor([[2.1772, 0.2161, 1.6927],\n",
      "        [1.6285, 0.8017, 0.1201],\n",
      "        [0.7092, 0.5347, 0.6827],\n",
      "        [0.5795, 1.3332, 0.5642],\n",
      "        [0.0444, 0.7610, 2.9811]])\n",
      "tensor([[2.1772, 0.2161, 1.6927],\n",
      "        [1.6285, 0.8017, 0.1201],\n",
      "        [0.7092, 0.5347, 0.6827],\n",
      "        [0.5795, 1.3332, 0.5642],\n",
      "        [0.0444, 0.7610, 2.9811]])\n"
     ]
    }
   ],
   "source": [
    "x = torch.rand(5, 3)\n",
    "y = torch.rand(5, 3)\n",
    "print(x / y) # This is old method\n",
    "print(torch.div(x, y)) # pytorch method"
   ]
  },
  {
   "cell_type": "code",
   "execution_count": 19,
   "metadata": {},
   "outputs": [
    {
     "name": "stdout",
     "output_type": "stream",
     "text": [
      "tensor([[0.0816, 0.0298, 0.1272],\n",
      "        [0.5366, 0.1991, 0.2759],\n",
      "        [0.1387, 0.0269, 0.0072],\n",
      "        [0.6677, 0.0448, 0.2487],\n",
      "        [0.1018, 0.5830, 0.3357]])\n",
      "tensor([[0.0816, 0.0298, 0.1272],\n",
      "        [0.5366, 0.1991, 0.2759],\n",
      "        [0.1387, 0.0269, 0.0072],\n",
      "        [0.6677, 0.0448, 0.2487],\n",
      "        [0.1018, 0.5830, 0.3357]])\n"
     ]
    }
   ],
   "source": [
    "x = torch.rand(5, 3)\n",
    "y = torch.rand(5, 3)\n",
    "print(x * y) # This is old method\n",
    "print(torch.mul(x, y)) # pytorch method"
   ]
  },
  {
   "cell_type": "markdown",
   "metadata": {},
   "source": [
    "* **Add x to y**"
   ]
  },
  {
   "cell_type": "code",
   "execution_count": 20,
   "metadata": {},
   "outputs": [
    {
     "name": "stdout",
     "output_type": "stream",
     "text": [
      "tensor([[0.6329, 0.4502, 0.8003],\n",
      "        [1.5258, 0.9704, 1.1062],\n",
      "        [0.7612, 0.6339, 0.2028],\n",
      "        [1.6455, 0.9853, 1.0485],\n",
      "        [0.6467, 1.5277, 1.1774]])\n"
     ]
    }
   ],
   "source": [
    "# adds x to y\n",
    "y.add_(x)\n",
    "print(y)"
   ]
  },
  {
   "cell_type": "markdown",
   "metadata": {},
   "source": [
    "* **Standard Numpy like Indexing**"
   ]
  },
  {
   "cell_type": "code",
   "execution_count": 21,
   "metadata": {},
   "outputs": [
    {
     "name": "stdout",
     "output_type": "stream",
     "text": [
      "tensor([0.0807, 0.2946, 0.5882, 0.0478, 0.7418])\n"
     ]
    }
   ],
   "source": [
    "print(x[:, 1])"
   ]
  },
  {
   "cell_type": "markdown",
   "metadata": {},
   "source": [
    "* **Resizing**"
   ]
  },
  {
   "cell_type": "code",
   "execution_count": 24,
   "metadata": {},
   "outputs": [
    {
     "name": "stdout",
     "output_type": "stream",
     "text": [
      "torch.Size([4, 4]) torch.Size([16]) torch.Size([2, 8])\n"
     ]
    }
   ],
   "source": [
    "x = torch.randn(4, 4)\n",
    "y = x.view(16)\n",
    "z = x.view(-1, 8)  # the size -1 is inferred from other dimensions\n",
    "print(x.size(), y.size(), z.size())"
   ]
  },
  {
   "cell_type": "markdown",
   "metadata": {},
   "source": [
    "---\n",
    "* **Note** : Any operation that mutates a tensor in-place is post-fixed with an _. For example:_ `x.copy_(y), x.t_()`, will change `x`.  \n",
    "for more about tensor go on this link : https://pytorch.org/docs/stable/tensors.html\n",
    "---"
   ]
  },
  {
   "cell_type": "markdown",
   "metadata": {},
   "source": [
    "### Variable\n",
    "* The difference between pytorch and numpy is that it provides automatic derivation, which can automatically give you the gradient of the parameters you want. This operation is provided by another basic element, Variable.\n",
    "![](https://raw.githubusercontent.com/pytorch/pytorch/master/docs/source/_static/img/dynamic_graph.gif)\n",
    "* A Variable wraps a Tensor. It supports nearly all the API’s defined by a Tensor. Variable also provides a backward method to perform backpropagation. For example, to backpropagate a loss function to train model parameter x, we use a variable loss to store the value computed by a loss function. Then, we call loss.backward which computes the gradients ∂loss∂x for all trainable parameters. PyTorch will store the gradient results back in the corresponding variable x.\n",
    "* Variable in torch is to build a computational graph, but this graph is dynamic compared with a static graph in Tensorflow or Theano.So torch does not have placeholder, torch can just pass variable to the computational graph."
   ]
  },
  {
   "cell_type": "code",
   "execution_count": 26,
   "metadata": {},
   "outputs": [],
   "source": [
    "import torch\n",
    "from torch.autograd import Variable"
   ]
  },
  {
   "cell_type": "markdown",
   "metadata": {},
   "source": [
    "* Build a **tensor**\n",
    "* Build a **variable, usually for compute gradients**"
   ]
  },
  {
   "cell_type": "code",
   "execution_count": 28,
   "metadata": {},
   "outputs": [
    {
     "name": "stdout",
     "output_type": "stream",
     "text": [
      "tensor([[1., 2.],\n",
      "        [3., 4.]])\n",
      "tensor([[1., 2.],\n",
      "        [3., 4.]], requires_grad=True)\n"
     ]
    }
   ],
   "source": [
    "tensor = torch.FloatTensor([[1,2],[3,4]])  \n",
    "variable = Variable(tensor, requires_grad=True)   \n",
    "print(tensor)       # [torch.FloatTensor of size 2x2]\n",
    "print(variable)     # [torch.FloatTensor of size 2x2]"
   ]
  },
  {
   "cell_type": "markdown",
   "metadata": {},
   "source": [
    "* Till now the **tensor and variable** seem the same.However, the **variable is a part of the graph**, it's a part of the **auto-gradient.**"
   ]
  },
  {
   "cell_type": "code",
   "execution_count": 29,
   "metadata": {},
   "outputs": [
    {
     "name": "stdout",
     "output_type": "stream",
     "text": [
      "tensor(7.5000)\n",
      "tensor(7.5000, grad_fn=<MeanBackward1>)\n"
     ]
    }
   ],
   "source": [
    "t_out = torch.mean(tensor*tensor)       # x^2\n",
    "v_out = torch.mean(variable*variable)   # x^2\n",
    "print(t_out)\n",
    "print(v_out)    # 7.5"
   ]
  },
  {
   "cell_type": "markdown",
   "metadata": {},
   "source": [
    "*  Backpropagation from v_out\n",
    "*  `v_out  =  1 / 4  *  sum(variable * variable)`\n",
    "* the gradients w.r.t the variable, `d(v_out)/d(variable) = 1/4*2*variable = variable/2`"
   ]
  },
  {
   "cell_type": "code",
   "execution_count": 30,
   "metadata": {},
   "outputs": [
    {
     "name": "stdout",
     "output_type": "stream",
     "text": [
      "tensor([[0.5000, 1.0000],\n",
      "        [1.5000, 2.0000]])\n"
     ]
    }
   ],
   "source": [
    "v_out.backward()   \n",
    "print(variable.grad)"
   ]
  },
  {
   "cell_type": "markdown",
   "metadata": {},
   "source": [
    "*  This is data in **variable format**"
   ]
  },
  {
   "cell_type": "code",
   "execution_count": 31,
   "metadata": {},
   "outputs": [
    {
     "name": "stdout",
     "output_type": "stream",
     "text": [
      "tensor([[1., 2.],\n",
      "        [3., 4.]], requires_grad=True)\n"
     ]
    }
   ],
   "source": [
    "print(variable)   "
   ]
  },
  {
   "cell_type": "markdown",
   "metadata": {},
   "source": [
    "* This is data in **tensor format**"
   ]
  },
  {
   "cell_type": "code",
   "execution_count": 33,
   "metadata": {},
   "outputs": [
    {
     "name": "stdout",
     "output_type": "stream",
     "text": [
      "tensor([[1., 2.],\n",
      "        [3., 4.]])\n"
     ]
    }
   ],
   "source": [
    "print(variable.data)    "
   ]
  },
  {
   "cell_type": "markdown",
   "metadata": {},
   "source": [
    "* This is in **numpy format**"
   ]
  },
  {
   "cell_type": "code",
   "execution_count": 34,
   "metadata": {},
   "outputs": [
    {
     "name": "stdout",
     "output_type": "stream",
     "text": [
      "[[1. 2.]\n",
      " [3. 4.]]\n"
     ]
    }
   ],
   "source": [
    "print(variable.data.numpy())    # numpy format"
   ]
  },
  {
   "cell_type": "code",
   "execution_count": null,
   "metadata": {},
   "outputs": [],
   "source": []
  }
 ],
 "metadata": {
  "kernelspec": {
   "display_name": "Python 3",
   "language": "python",
   "name": "python3"
  },
  "language_info": {
   "codemirror_mode": {
    "name": "ipython",
    "version": 3
   },
   "file_extension": ".py",
   "mimetype": "text/x-python",
   "name": "python",
   "nbconvert_exporter": "python",
   "pygments_lexer": "ipython3",
   "version": "3.5.2"
  }
 },
 "nbformat": 4,
 "nbformat_minor": 2
}
